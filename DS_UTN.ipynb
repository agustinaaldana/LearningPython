{
  "nbformat": 4,
  "nbformat_minor": 0,
  "metadata": {
    "colab": {
      "provenance": [],
      "authorship_tag": "ABX9TyMqgdJG06H06+t/TVK8ojec",
      "include_colab_link": true
    },
    "kernelspec": {
      "name": "python3",
      "display_name": "Python 3"
    },
    "language_info": {
      "name": "python"
    }
  },
  "cells": [
    {
      "cell_type": "markdown",
      "metadata": {
        "id": "view-in-github",
        "colab_type": "text"
      },
      "source": [
        "<a href=\"https://colab.research.google.com/github/agustinaaldana/LearningPython/blob/main/DS_UTN.ipynb\" target=\"_parent\"><img src=\"https://colab.research.google.com/assets/colab-badge.svg\" alt=\"Open In Colab\"/></a>"
      ]
    },
    {
      "cell_type": "markdown",
      "source": [
        "# Python\n",
        "\n",
        "Applied Data Science"
      ],
      "metadata": {
        "id": "H-ONYzTE4zlB"
      }
    },
    {
      "cell_type": "markdown",
      "source": [
        "# Primer workshop. 7/6/2024. Prof. Marcelo"
      ],
      "metadata": {
        "id": "V_u-gD8H5FAu"
      }
    },
    {
      "cell_type": "code",
      "source": [
        "!python --version"
      ],
      "metadata": {
        "colab": {
          "base_uri": "https://localhost:8080/"
        },
        "id": "zSctllWh5e3f",
        "outputId": "45de1350-4737-455f-a3d5-d05a86b11be0"
      },
      "execution_count": 1,
      "outputs": [
        {
          "output_type": "stream",
          "name": "stdout",
          "text": [
            "Python 3.10.12\n"
          ]
        }
      ]
    },
    {
      "cell_type": "code",
      "source": [
        "a = 3\n",
        "print(a, type(a))\n",
        "\n",
        "a = 2.5\n",
        "print(a, type(a))"
      ],
      "metadata": {
        "colab": {
          "base_uri": "https://localhost:8080/"
        },
        "id": "TJB_Njoi5UHE",
        "outputId": "8e58ebde-d918-4bda-b6a2-80d5be7974b5"
      },
      "execution_count": 12,
      "outputs": [
        {
          "output_type": "stream",
          "name": "stdout",
          "text": [
            "3 <class 'int'>\n",
            "2.5 <class 'float'>\n"
          ]
        }
      ]
    },
    {
      "cell_type": "markdown",
      "source": [
        "Python is a dynamic language. It could be reassigned the variable's type and value. It could be tricky for data science."
      ],
      "metadata": {
        "id": "czLDLRYy657X"
      }
    },
    {
      "cell_type": "code",
      "source": [
        "a += 0.5 # If I run again, a will take the last value.\n",
        "print(a+1)\n",
        "print(a*3)\n",
        "print(a-1)\n",
        "print(a%3)\n",
        "print(a**2)"
      ],
      "metadata": {
        "colab": {
          "base_uri": "https://localhost:8080/"
        },
        "id": "TWITHBdI7aSd",
        "outputId": "09686a4e-4808-4577-f46d-cf42cbefb4fe"
      },
      "execution_count": 13,
      "outputs": [
        {
          "output_type": "stream",
          "name": "stdout",
          "text": [
            "4.0\n",
            "9.0\n",
            "2.0\n",
            "0.0\n",
            "9.0\n"
          ]
        }
      ]
    },
    {
      "cell_type": "markdown",
      "source": [
        "+= x, means same variable plus x, where x is a number.\n",
        "\n",
        "*= x, means same variable muliply by x, where x is a number."
      ],
      "metadata": {
        "id": "-tHUcveN8beg"
      }
    },
    {
      "cell_type": "code",
      "source": [
        "var1,  var2, x = True, False, 3   # We can assign multiple variables at same time\n",
        "print(type(var1))\n",
        "print(type(x))\n",
        "print(var1, var2, x)"
      ],
      "metadata": {
        "colab": {
          "base_uri": "https://localhost:8080/"
        },
        "id": "8D3yW9Ry9yEX",
        "outputId": "dbcb5132-e2c6-4687-c5b0-a0d9cdca707d"
      },
      "execution_count": 14,
      "outputs": [
        {
          "output_type": "stream",
          "name": "stdout",
          "text": [
            "<class 'bool'>\n",
            "<class 'int'>\n",
            "True False 3\n"
          ]
        }
      ]
    },
    {
      "cell_type": "markdown",
      "source": [
        "Tru table"
      ],
      "metadata": {
        "id": "mNABkiQd_REv"
      }
    },
    {
      "cell_type": "code",
      "source": [
        "# 1 and 1 -> 1     1 and 0 -> 0\n",
        "# 1 or 0 -> 1      1 or 1 -> 1      0 or 0 -> 0\n",
        "\n",
        "print(var1 and var2)   # and\n",
        "print(var1 or var1)    # or\n",
        "print(not var1)        # not\n",
        "print(var1 != var2)    # xor  (different)\n",
        "print(var1 == var2)    # equal"
      ],
      "metadata": {
        "colab": {
          "base_uri": "https://localhost:8080/"
        },
        "id": "O-_nlcT7-m3K",
        "outputId": "7d78c800-9be7-4e0c-a32a-0184ad391f87"
      },
      "execution_count": 15,
      "outputs": [
        {
          "output_type": "stream",
          "name": "stdout",
          "text": [
            "False\n",
            "True\n",
            "False\n",
            "True\n",
            "False\n"
          ]
        }
      ]
    },
    {
      "cell_type": "markdown",
      "source": [
        " **Strings**"
      ],
      "metadata": {
        "id": "VAHT6nQk_5Qh"
      }
    },
    {
      "cell_type": "code",
      "source": [
        "text1 = \"This is a text\"\n",
        "text2 = 'This is a text too'\n",
        "print(text1 + \"-\" + text2)\n",
        "print(len(text1))\n",
        "x = 10\n",
        "y = 20\n",
        "print(f\"The sum of {x} and {y} is equal to {x + y}.\")"
      ],
      "metadata": {
        "colab": {
          "base_uri": "https://localhost:8080/"
        },
        "id": "rFYcklJc__dG",
        "outputId": "e0c9edb7-9ae5-4b03-9f70-f2f77a13a426"
      },
      "execution_count": 23,
      "outputs": [
        {
          "output_type": "stream",
          "name": "stdout",
          "text": [
            "This is a text-This is a text too\n",
            "14\n",
            "The sum of 10 and 20 is equal to 30.\n"
          ]
        }
      ]
    }
  ]
}