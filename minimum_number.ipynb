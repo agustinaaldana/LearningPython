{
  "nbformat": 4,
  "nbformat_minor": 0,
  "metadata": {
    "colab": {
      "provenance": [],
      "authorship_tag": "ABX9TyOh0N/P7/44FRyFJ2Uf+aUw",
      "include_colab_link": true
    },
    "kernelspec": {
      "name": "python3",
      "display_name": "Python 3"
    },
    "language_info": {
      "name": "python"
    }
  },
  "cells": [
    {
      "cell_type": "markdown",
      "metadata": {
        "id": "view-in-github",
        "colab_type": "text"
      },
      "source": [
        "<a href=\"https://colab.research.google.com/github/agustinaaldana/LearningPython/blob/main/minimum_number.ipynb\" target=\"_parent\"><img src=\"https://colab.research.google.com/assets/colab-badge.svg\" alt=\"Open In Colab\"/></a>"
      ]
    },
    {
      "cell_type": "code",
      "source": [
        "def min_number(numbers):\n",
        "  if len(numbers) == 0:\n",
        "    print(\"Empty list\")\n",
        "  else:\n",
        "    first_number = numbers[0]\n",
        "    for x in numbers:\n",
        "      if x < first_number:\n",
        "        first_number = x\n",
        "    print(f\"The lowest number in the list is {first_number}\")\n",
        "\n",
        "min_number([11,34, 2, 23, 24, 35, 1, 90])"
      ],
      "metadata": {
        "colab": {
          "base_uri": "https://localhost:8080/"
        },
        "id": "KSC2Jq2LHybu",
        "outputId": "fc4b231b-b039-4247-88e0-34e05f8dc657"
      },
      "execution_count": null,
      "outputs": [
        {
          "output_type": "stream",
          "name": "stdout",
          "text": [
            "The lowest number in the list is 1\n"
          ]
        }
      ]
    }
  ]
}